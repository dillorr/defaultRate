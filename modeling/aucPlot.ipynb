{
 "cells": [
  {
   "cell_type": "markdown",
   "metadata": {},
   "source": [
    "# AUC Plot "
   ]
  },
  {
   "cell_type": "code",
   "execution_count": 97,
   "metadata": {},
   "outputs": [],
   "source": [
    "from pyforest import *"
   ]
  },
  {
   "cell_type": "markdown",
   "metadata": {},
   "source": [
    "## Predict Proprietary"
   ]
  },
  {
   "cell_type": "code",
   "execution_count": 98,
   "metadata": {},
   "outputs": [
    {
     "data": {
      "application/javascript": [
       "\n",
       "        if (window._pyforest_update_imports_cell) { window._pyforest_update_imports_cell('import matplotlib.pyplot as plt\\nimport pandas as pd'); }\n",
       "    "
      ],
      "text/plain": [
       "<IPython.core.display.Javascript object>"
      ]
     },
     "metadata": {},
     "output_type": "display_data"
    }
   ],
   "source": [
    "df = pd.read_csv(r'../data/modeling/combined.csv', encoding = \"ISO-8859-1\")"
   ]
  },
  {
   "cell_type": "code",
   "execution_count": 99,
   "metadata": {},
   "outputs": [],
   "source": [
    "from sklearn.model_selection import train_test_split\n",
    "\n",
    "# data = df.drop(columns = 'proprietary')\n",
    "data = df[['associates','cdr2015_log','density_log','educationcollegeorabove','private','proglength', 'public','raceasian_log','rentmedian_log']]\n",
    "target = df['proprietary']\n",
    "\n",
    "X_train, X_test, y_train, y_test = train_test_split(data, target, test_size = .25, random_state = 109)"
   ]
  },
  {
   "cell_type": "code",
   "execution_count": 100,
   "metadata": {},
   "outputs": [],
   "source": [
    "from sklearn.model_selection import cross_val_score, cross_val_predict\n",
    "from sklearn import metrics"
   ]
  },
  {
   "cell_type": "markdown",
   "metadata": {},
   "source": [
    "### KNN "
   ]
  },
  {
   "cell_type": "code",
   "execution_count": 101,
   "metadata": {},
   "outputs": [
    {
     "name": "stdout",
     "output_type": "stream",
     "text": [
      "[0.68113523 0.67946578 0.68113523 0.34615385 0.06187291 0.32608696]\n"
     ]
    },
    {
     "data": {
      "application/javascript": [
       "\n",
       "        if (window._pyforest_update_imports_cell) { window._pyforest_update_imports_cell('import matplotlib.pyplot as plt\\nimport pandas as pd'); }\n",
       "    "
      ],
      "text/plain": [
       "<IPython.core.display.Javascript object>"
      ]
     },
     "metadata": {},
     "output_type": "display_data"
    },
    {
     "name": "stdout",
     "output_type": "stream",
     "text": [
      "Confusion Matrix\n",
      "Predicted     0     1   All\n",
      "Actual                     \n",
      "0          1460   981  2441\n",
      "1           948   202  1150\n",
      "All        2408  1183  3591\n",
      "accuracy:  0.4628237259816207\n",
      "precision:  0.17075232459847844\n",
      "recall:  0.17565217391304347\n",
      "kappa:  -0.2245285096810039\n"
     ]
    }
   ],
   "source": [
    "from sklearn.neighbors import KNeighborsClassifier\n",
    "\n",
    "knn = KNeighborsClassifier()\n",
    "knn.fit(X_train, y_train)\n",
    "\n",
    "model = knn\n",
    "y = df.proprietary\n",
    "\n",
    "scores = cross_val_score(model, df, y, cv=6)\n",
    "print(scores)\n",
    "\n",
    "\n",
    "KNNpredictions = cross_val_predict(model, df, y, cv = 6)\n",
    "\n",
    "# Compute the confusion matrix using crosstab function\n",
    "conf_mat = pd.crosstab(df.proprietary, KNNpredictions,\n",
    "                       rownames=['Actual'], \n",
    "                       colnames=['Predicted'], \n",
    "                       margins = True)\n",
    "\n",
    "# Print the confusion matrix\n",
    "print('Confusion Matrix')\n",
    "print(conf_mat)\n",
    "\n",
    "print('accuracy: ', metrics.accuracy_score(y, KNNpredictions))\n",
    "\n",
    "print(\"precision: \",metrics.precision_score(y, KNNpredictions))\n",
    "\n",
    "print(\"recall: \",metrics.recall_score(y, KNNpredictions))\n",
    "\n",
    "print(\"kappa: \",metrics.cohen_kappa_score(y, KNNpredictions))\n"
   ]
  },
  {
   "cell_type": "markdown",
   "metadata": {},
   "source": [
    "## Naive Bayes"
   ]
  },
  {
   "cell_type": "code",
   "execution_count": 102,
   "metadata": {},
   "outputs": [
    {
     "name": "stdout",
     "output_type": "stream",
     "text": [
      "[0.86143573 0.99833055 1.         1.         1.         0.34782609]\n"
     ]
    },
    {
     "data": {
      "application/javascript": [
       "\n",
       "        if (window._pyforest_update_imports_cell) { window._pyforest_update_imports_cell('import matplotlib.pyplot as plt\\nimport pandas as pd'); }\n",
       "    "
      ],
      "text/plain": [
       "<IPython.core.display.Javascript object>"
      ]
     },
     "metadata": {},
     "output_type": "display_data"
    },
    {
     "name": "stdout",
     "output_type": "stream",
     "text": [
      "Confusion Matrix\n",
      "Predicted     0     1   All\n",
      "Actual                     \n",
      "0          2051   390  2441\n",
      "1            84  1066  1150\n",
      "All        2135  1456  3591\n",
      "accuracy:  0.8680033416875522\n",
      "precision: 0.7321428571428571\n",
      "recall: 0.9269565217391305\n",
      "kappa: 0.7167522056476695\n"
     ]
    }
   ],
   "source": [
    "from sklearn.naive_bayes import GaussianNB\n",
    "\n",
    "gnb = GaussianNB()\n",
    "gnb.fit(X_train, y_train)\n",
    "\n",
    "y = df.proprietary\n",
    "model = gnb\n",
    "\n",
    "scores = cross_val_score(model, df, y, cv=6)\n",
    "print(scores)\n",
    "\n",
    "gnbPredictions = cross_val_predict(model, df, y, cv = 6)\n",
    "\n",
    "# Compute the confusion matrix using crosstab function\n",
    "conf_mat = pd.crosstab(y, gnbPredictions,\n",
    "                       rownames=['Actual'], \n",
    "                       colnames=['Predicted'], \n",
    "                       margins = True)\n",
    "\n",
    "# Print the confusion matrix\n",
    "print('Confusion Matrix')\n",
    "print(conf_mat)\n",
    "\n",
    "print('accuracy: ', metrics.accuracy_score(y, gnbPredictions))\n",
    "\n",
    "print(\"precision:\",metrics.precision_score(y, gnbPredictions))\n",
    "\n",
    "print(\"recall:\",metrics.recall_score(y, gnbPredictions))\n",
    "\n",
    "print(\"kappa:\",metrics.cohen_kappa_score(y, gnbPredictions))"
   ]
  },
  {
   "cell_type": "markdown",
   "metadata": {},
   "source": [
    "## Logistic Regression"
   ]
  },
  {
   "cell_type": "code",
   "execution_count": 122,
   "metadata": {},
   "outputs": [
    {
     "data": {
      "application/javascript": [
       "\n",
       "        if (window._pyforest_update_imports_cell) { window._pyforest_update_imports_cell('import matplotlib.pyplot as plt\\nimport pandas as pd'); }\n",
       "    "
      ],
      "text/plain": [
       "<IPython.core.display.Javascript object>"
      ]
     },
     "metadata": {},
     "output_type": "display_data"
    },
    {
     "name": "stdout",
     "output_type": "stream",
     "text": [
      "Confusion Matrix\n",
      "Predicted     0     1   All\n",
      "Actual                     \n",
      "0          2276   165  2441\n",
      "1             0  1150  1150\n",
      "All        2276  1315  3591\n",
      "accuracy:  0.9540517961570593\n",
      "precision: 0.8745247148288974\n",
      "recall: 1.0\n",
      "kappa: 0.8983210964226235\n",
      "coeffients:  [[-0.29305463  0.45795031  0.27608373  0.04254327 -8.01642381 -2.21434515\n",
      "  -8.2817995   0.40876009  0.20841783]] intercept:  [4.08307086]\n"
     ]
    }
   ],
   "source": [
    "import sklearn.linear_model as lm\n",
    "\n",
    "log = lm.LogisticRegression(max_iter = 200).fit(X_train, y_train)\n",
    "\n",
    "model = log\n",
    "\n",
    "y = df.proprietary\n",
    "\n",
    "# Compute class predictions: y_prediction\n",
    "logPredictions = cross_val_predict(model, df, y, cv = 6)\n",
    "\n",
    "# Compute the confusion matrix using crosstab function\n",
    "conf_mat = pd.crosstab(y, logPredictions,\n",
    "                       rownames=['Actual'], \n",
    "                       colnames=['Predicted'], \n",
    "                       margins = True)\n",
    "\n",
    "# Print the confusion matrix\n",
    "print('Confusion Matrix')\n",
    "print(conf_mat)\n",
    "\n",
    "print('accuracy: ', metrics.accuracy_score(y, logPredictions))\n",
    "\n",
    "print(\"precision:\",metrics.precision_score(y, logPredictions))\n",
    "\n",
    "print(\"recall:\",metrics.recall_score(y, logPredictions))\n",
    "\n",
    "print(\"kappa:\",metrics.cohen_kappa_score(y, logPredictions))\n",
    "\n",
    "print('coeffients: ', log.coef_, 'intercept: ', log.intercept_)"
   ]
  },
  {
   "cell_type": "markdown",
   "metadata": {},
   "source": [
    "## SVM"
   ]
  },
  {
   "cell_type": "code",
   "execution_count": 104,
   "metadata": {},
   "outputs": [
    {
     "data": {
      "application/javascript": [
       "\n",
       "        if (window._pyforest_update_imports_cell) { window._pyforest_update_imports_cell('import matplotlib.pyplot as plt\\nimport pandas as pd'); }\n",
       "    "
      ],
      "text/plain": [
       "<IPython.core.display.Javascript object>"
      ]
     },
     "metadata": {},
     "output_type": "display_data"
    },
    {
     "name": "stdout",
     "output_type": "stream",
     "text": [
      "Confusion Matrix\n",
      "Predicted     0     1   All\n",
      "Actual                     \n",
      "0          1721   720  2441\n",
      "1           545   605  1150\n",
      "All        2266  1325  3591\n",
      "accuracy:  0.6477304372041214\n",
      "precision: 0.45660377358490567\n",
      "recall: 0.5260869565217391\n",
      "kappa: 0.22218493294350816\n"
     ]
    }
   ],
   "source": [
    "from sklearn import svm\n",
    "\n",
    "svm = svm.SVC(kernel = 'rbf')\n",
    "\n",
    "svm.fit(X_train, y_train)\n",
    "\n",
    "model = svm\n",
    "\n",
    "y = df.proprietary\n",
    "\n",
    "# Compute class predictions: y_prediction\n",
    "svmPredictions = cross_val_predict(model, df, y, cv = 6)\n",
    "\n",
    "# Compute the confusion matrix using crosstab function\n",
    "conf_mat = pd.crosstab(y, svmPredictions,\n",
    "                       rownames=['Actual'], \n",
    "                       colnames=['Predicted'], \n",
    "                       margins = True)\n",
    "\n",
    "# Print the confusion matrix\n",
    "print('Confusion Matrix')\n",
    "print(conf_mat)\n",
    "\n",
    "print('accuracy: ', metrics.accuracy_score(y, svmPredictions))\n",
    "\n",
    "print(\"precision:\",metrics.precision_score(y, svmPredictions))\n",
    "\n",
    "print(\"recall:\",metrics.recall_score(y, svmPredictions))\n",
    "\n",
    "print(\"kappa:\",metrics.cohen_kappa_score(y, svmPredictions))"
   ]
  },
  {
   "cell_type": "markdown",
   "metadata": {},
   "source": [
    "## Elastic Net"
   ]
  },
  {
   "cell_type": "code",
   "execution_count": 120,
   "metadata": {},
   "outputs": [
    {
     "data": {
      "application/javascript": [
       "\n",
       "        if (window._pyforest_update_imports_cell) { window._pyforest_update_imports_cell('import matplotlib.pyplot as plt\\nimport pandas as pd'); }\n",
       "    "
      ],
      "text/plain": [
       "<IPython.core.display.Javascript object>"
      ]
     },
     "metadata": {},
     "output_type": "display_data"
    },
    {
     "name": "stdout",
     "output_type": "stream",
     "text": [
      "Confusion Matrix\n",
      "Predicted     0     1   All\n",
      "Actual                     \n",
      "0          1221  1220  2441\n",
      "1           575   575  1150\n",
      "All        1796  1795  3591\n",
      "accuracy:  0.5001392369813422\n",
      "precision: 0.3203342618384401\n",
      "recall: 0.5\n",
      "kappa: 0.0001783776782826596\n"
     ]
    }
   ],
   "source": [
    "from sklearn import linear_model\n",
    "\n",
    "elastic = linear_model.SGDClassifier(max_iter=10000, tol=1e-3, penalty = 'elasticnet', n_iter_no_change = 5)\n",
    "elastic.fit(X_train, y_train)\n",
    "\n",
    "model = elastic\n",
    "\n",
    "y = df.proprietary\n",
    "\n",
    "# Compute class predictions: y_prediction\n",
    "elasticPredictions = cross_val_predict(model, df, y, cv = 6)\n",
    "\n",
    "# Compute the confusion matrix using crosstab function\n",
    "conf_mat = pd.crosstab(y, elasticPredictions,\n",
    "                       rownames=['Actual'], \n",
    "                       colnames=['Predicted'], \n",
    "                       margins = True)\n",
    "\n",
    "# Print the confusion matrix\n",
    "print('Confusion Matrix')\n",
    "print(conf_mat)\n",
    "\n",
    "print('accuracy: ', metrics.accuracy_score(y, elasticPredictions))\n",
    "\n",
    "print(\"precision:\",metrics.precision_score(y, elasticPredictions))\n",
    "\n",
    "print(\"recall:\",metrics.recall_score(y, elasticPredictions))\n",
    "\n",
    "print(\"kappa:\",metrics.cohen_kappa_score(y, elasticPredictions))"
   ]
  },
  {
   "cell_type": "markdown",
   "metadata": {},
   "source": [
    "## AUC Curve"
   ]
  },
  {
   "cell_type": "code",
   "execution_count": 108,
   "metadata": {},
   "outputs": [
    {
     "data": {
      "application/javascript": [
       "\n",
       "        if (window._pyforest_update_imports_cell) { window._pyforest_update_imports_cell('import matplotlib.pyplot as plt\\nimport pandas as pd'); }\n",
       "    "
      ],
      "text/plain": [
       "<IPython.core.display.Javascript object>"
      ]
     },
     "metadata": {},
     "output_type": "display_data"
    },
    {
     "name": "stdout",
     "output_type": "stream",
     "text": [
      "Log AUC:  0.966202376075379\n"
     ]
    },
    {
     "data": {
      "application/javascript": [
       "\n",
       "        if (window._pyforest_update_imports_cell) { window._pyforest_update_imports_cell('import matplotlib.pyplot as plt\\nimport pandas as pd'); }\n",
       "    "
      ],
      "text/plain": [
       "<IPython.core.display.Javascript object>"
      ]
     },
     "metadata": {},
     "output_type": "display_data"
    },
    {
     "name": "stdout",
     "output_type": "stream",
     "text": [
      "NB AUC:  0.8835929679568245\n"
     ]
    },
    {
     "data": {
      "application/javascript": [
       "\n",
       "        if (window._pyforest_update_imports_cell) { window._pyforest_update_imports_cell('import matplotlib.pyplot as plt\\nimport pandas as pd'); }\n",
       "    "
      ],
      "text/plain": [
       "<IPython.core.display.Javascript object>"
      ]
     },
     "metadata": {},
     "output_type": "display_data"
    },
    {
     "name": "stdout",
     "output_type": "stream",
     "text": [
      "SVM AUC:  0.6155629374988867\n"
     ]
    },
    {
     "data": {
      "application/javascript": [
       "\n",
       "        if (window._pyforest_update_imports_cell) { window._pyforest_update_imports_cell('import matplotlib.pyplot as plt\\nimport pandas as pd'); }\n",
       "    "
      ],
      "text/plain": [
       "<IPython.core.display.Javascript object>"
      ]
     },
     "metadata": {},
     "output_type": "display_data"
    },
    {
     "name": "stdout",
     "output_type": "stream",
     "text": [
      "SGD AUC:  0.5001024170421958\n"
     ]
    },
    {
     "data": {
      "application/javascript": [
       "\n",
       "        if (window._pyforest_update_imports_cell) { window._pyforest_update_imports_cell('import matplotlib.pyplot as plt\\nimport pandas as pd'); }\n",
       "    "
      ],
      "text/plain": [
       "<IPython.core.display.Javascript object>"
      ]
     },
     "metadata": {},
     "output_type": "display_data"
    },
    {
     "name": "stdout",
     "output_type": "stream",
     "text": [
      "KNN AUC:  0.38688385016832016\n"
     ]
    },
    {
     "data": {
      "application/javascript": [
       "\n",
       "        if (window._pyforest_update_imports_cell) { window._pyforest_update_imports_cell('import matplotlib.pyplot as plt\\nimport pandas as pd'); }\n",
       "    "
      ],
      "text/plain": [
       "<IPython.core.display.Javascript object>"
      ]
     },
     "metadata": {},
     "output_type": "display_data"
    },
    {
     "data": {
      "application/javascript": [
       "\n",
       "        if (window._pyforest_update_imports_cell) { window._pyforest_update_imports_cell('import matplotlib.pyplot as plt\\nimport pandas as pd'); }\n",
       "    "
      ],
      "text/plain": [
       "<IPython.core.display.Javascript object>"
      ]
     },
     "metadata": {},
     "output_type": "display_data"
    },
    {
     "data": {
      "application/javascript": [
       "\n",
       "        if (window._pyforest_update_imports_cell) { window._pyforest_update_imports_cell('import matplotlib.pyplot as plt\\nimport pandas as pd'); }\n",
       "    "
      ],
      "text/plain": [
       "<IPython.core.display.Javascript object>"
      ]
     },
     "metadata": {},
     "output_type": "display_data"
    },
    {
     "data": {
      "application/javascript": [
       "\n",
       "        if (window._pyforest_update_imports_cell) { window._pyforest_update_imports_cell('import matplotlib.pyplot as plt\\nimport pandas as pd'); }\n",
       "    "
      ],
      "text/plain": [
       "<IPython.core.display.Javascript object>"
      ]
     },
     "metadata": {},
     "output_type": "display_data"
    },
    {
     "data": {
      "application/javascript": [
       "\n",
       "        if (window._pyforest_update_imports_cell) { window._pyforest_update_imports_cell('import matplotlib.pyplot as plt\\nimport pandas as pd'); }\n",
       "    "
      ],
      "text/plain": [
       "<IPython.core.display.Javascript object>"
      ]
     },
     "metadata": {},
     "output_type": "display_data"
    },
    {
     "data": {
      "application/javascript": [
       "\n",
       "        if (window._pyforest_update_imports_cell) { window._pyforest_update_imports_cell('import matplotlib.pyplot as plt\\nimport pandas as pd'); }\n",
       "    "
      ],
      "text/plain": [
       "<IPython.core.display.Javascript object>"
      ]
     },
     "metadata": {},
     "output_type": "display_data"
    },
    {
     "data": {
      "application/javascript": [
       "\n",
       "        if (window._pyforest_update_imports_cell) { window._pyforest_update_imports_cell('import matplotlib.pyplot as plt\\nimport pandas as pd'); }\n",
       "    "
      ],
      "text/plain": [
       "<IPython.core.display.Javascript object>"
      ]
     },
     "metadata": {},
     "output_type": "display_data"
    },
    {
     "data": {
      "application/javascript": [
       "\n",
       "        if (window._pyforest_update_imports_cell) { window._pyforest_update_imports_cell('import matplotlib.pyplot as plt\\nimport pandas as pd'); }\n",
       "    "
      ],
      "text/plain": [
       "<IPython.core.display.Javascript object>"
      ]
     },
     "metadata": {},
     "output_type": "display_data"
    },
    {
     "data": {
      "application/javascript": [
       "\n",
       "        if (window._pyforest_update_imports_cell) { window._pyforest_update_imports_cell('import matplotlib.pyplot as plt\\nimport pandas as pd'); }\n",
       "    "
      ],
      "text/plain": [
       "<IPython.core.display.Javascript object>"
      ]
     },
     "metadata": {},
     "output_type": "display_data"
    },
    {
     "data": {
      "image/png": "[encoded data removed]",
      "text/plain": [
       "<Figure size 720x720 with 1 Axes>"
      ]
     },
     "metadata": {
      "needs_background": "light"
     },
     "output_type": "display_data"
    }
   ],
   "source": [
    "from pylab import rcParams\n",
    "rcParams['figure.figsize'] = 10, 10\n",
    "\n",
    "# Logistic Regression\n",
    "logfpr, logtpr, logthreshold = metrics.roc_curve(df.proprietary, logPredictions)\n",
    "logroc_auc = metrics.auc(logfpr, logtpr)\n",
    "plt.plot(logfpr, logtpr, 'green', label = 'LR AUC = %0.2f' % logroc_auc)\n",
    "print('Log AUC: ', logroc_auc)\n",
    "\n",
    "\n",
    "\n",
    "# Naive bayes\n",
    "gnbfpr, gnbtpr, gnbthreshold = metrics.roc_curve(df.proprietary, gnbPredictions)\n",
    "gnbroc_auc = metrics.auc(gnbfpr, gnbtpr)\n",
    "plt.plot(gnbfpr, gnbtpr, 'blue', label = 'NB AUC = %0.2f' % gnbroc_auc)\n",
    "print('NB AUC: ', gnbroc_auc)\n",
    "\n",
    "\n",
    "# SVM\n",
    "svmfpr, svmtpr, svmthreshold = metrics.roc_curve(df.proprietary, svmPredictions)\n",
    "svmroc_auc = metrics.auc(svmfpr, svmtpr)\n",
    "plt.plot(svmfpr, svmtpr, 'magenta', label = 'SVM AUC = %0.2f' % svmroc_auc)\n",
    "print('SVM AUC: ', svmroc_auc)\n",
    "\n",
    "# SGD w/ Elastic Net\n",
    "SGDfpr, SGDtpr, SGDthreshold = metrics.roc_curve(df.proprietary, elasticPredictions)\n",
    "SGDroc_auc = metrics.auc(SGDfpr, SGDtpr)\n",
    "plt.plot(SGDfpr, SGDtpr, 'orange', label = 'SGD AUC = %0.2f' % SGDroc_auc)\n",
    "print('SGD AUC: ', SGDroc_auc)\n",
    "\n",
    "\n",
    "# KNN\n",
    "KNNfpr, KNNtpr, KNNthreshold = metrics.roc_curve(df.proprietary, KNNpredictions)\n",
    "KNNroc_auc = metrics.auc(KNNfpr, KNNtpr)\n",
    "plt.plot(KNNfpr, KNNtpr, 'yellow', label = 'KNN AUC = %0.2f' % KNNroc_auc)\n",
    "print('KNN AUC: ', KNNroc_auc)\n",
    "\n",
    "\n",
    "plt.legend(loc = 'lower right')\n",
    "plt.plot([0, 1], [0, 1],'r--')\n",
    "plt.xlim([0, 1])\n",
    "plt.ylim([0, 1])\n",
    "plt.ylabel('True Positive Rate')\n",
    "plt.xlabel('False Positive Rate')\n",
    "plt.title('AUC Curves for Predict Proprietary')\n",
    "plt.savefig('proprietaryAUC.png')\n",
    "plt.show()"
   ]
  },
  {
   "cell_type": "markdown",
   "metadata": {},
   "source": [
    "# Predict High CDR"
   ]
  },
  {
   "cell_type": "code",
   "execution_count": 10,
   "metadata": {},
   "outputs": [],
   "source": [
    "df['cdrHigh'] = [1 if x >= 0.536775872 else 0 for x in df.cdr2016_log]\n",
    "\n",
    "# data = df.drop(columns = 'proprietary')\n",
    "data = df[['associates','cdr2015_log','density_log','educationcollegeorabove','private','proglength', 'public','raceasian_log','rentmedian_log', 'proprietary']]\n",
    "target = df['cdrHigh']\n",
    "\n",
    "X_train, X_test, y_train, y_test = train_test_split(data, target, test_size = .25, random_state = 109)"
   ]
  },
  {
   "cell_type": "markdown",
   "metadata": {},
   "source": [
    "## KNN"
   ]
  },
  {
   "cell_type": "code",
   "execution_count": 11,
   "metadata": {},
   "outputs": [
    {
     "name": "stdout",
     "output_type": "stream",
     "text": [
      "[0.49916528 0.15358932 0.01335559 0.03846154 0.2458194  0.5       ]\n"
     ]
    },
    {
     "data": {
      "application/javascript": [
       "\n",
       "        if (window._pyforest_update_imports_cell) { window._pyforest_update_imports_cell('import matplotlib.pyplot as plt\\nimport pandas as pd'); }\n",
       "    "
      ],
      "text/plain": [
       "<IPython.core.display.Javascript object>"
      ]
     },
     "metadata": {},
     "output_type": "display_data"
    },
    {
     "name": "stdout",
     "output_type": "stream",
     "text": [
      "Confusion Matrix\n",
      "Predicted     0     1   All\n",
      "Actual                     \n",
      "0          1331  1110  2441\n",
      "1           389   761  1150\n",
      "All        1720  1871  3591\n",
      "accuracy:  0.24171539961013644\n",
      "precision:  0.25227151256012825\n",
      "recall:  0.26280623608017817\n",
      "kappa:  -0.5165869595731101\n"
     ]
    }
   ],
   "source": [
    "from sklearn.neighbors import KNeighborsClassifier\n",
    "\n",
    "knn = KNeighborsClassifier()\n",
    "knn.fit(X_train, y_train)\n",
    "\n",
    "model = knn\n",
    "y = df.cdrHigh\n",
    "\n",
    "scores = cross_val_score(model, df, y, cv=6)\n",
    "print(scores)\n",
    "\n",
    "\n",
    "KNNpredictions = cross_val_predict(model, df, y, cv = 6)\n",
    "\n",
    "# Compute the confusion matrix using crosstab function\n",
    "conf_mat = pd.crosstab(df.proprietary, KNNpredictions,\n",
    "                       rownames=['Actual'], \n",
    "                       colnames=['Predicted'], \n",
    "                       margins = True)\n",
    "\n",
    "# Print the confusion matrix\n",
    "print('Confusion Matrix')\n",
    "print(conf_mat)\n",
    "\n",
    "print('accuracy: ', metrics.accuracy_score(y, KNNpredictions))\n",
    "\n",
    "print(\"precision: \",metrics.precision_score(y, KNNpredictions))\n",
    "\n",
    "print(\"recall: \",metrics.recall_score(y, KNNpredictions))\n",
    "\n",
    "print(\"kappa: \",metrics.cohen_kappa_score(y, KNNpredictions))"
   ]
  },
  {
   "cell_type": "markdown",
   "metadata": {},
   "source": [
    "## Naive Bayes"
   ]
  },
  {
   "cell_type": "code",
   "execution_count": 12,
   "metadata": {},
   "outputs": [
    {
     "name": "stdout",
     "output_type": "stream",
     "text": [
      "[0.92654424 0.90317195 0.9933222  0.98996656 0.98829431 0.7826087 ]\n"
     ]
    },
    {
     "data": {
      "application/javascript": [
       "\n",
       "        if (window._pyforest_update_imports_cell) { window._pyforest_update_imports_cell('import matplotlib.pyplot as plt\\nimport pandas as pd'); }\n",
       "    "
      ],
      "text/plain": [
       "<IPython.core.display.Javascript object>"
      ]
     },
     "metadata": {},
     "output_type": "display_data"
    },
    {
     "name": "stdout",
     "output_type": "stream",
     "text": [
      "Confusion Matrix\n",
      "Predicted     0     1   All\n",
      "Actual                     \n",
      "0          1664   131  1795\n",
      "1           118  1678  1796\n",
      "All        1782  1809  3591\n",
      "accuracy:  0.9306599832915622\n",
      "precision: 0.9275843007186291\n",
      "recall: 0.9342984409799554\n",
      "kappa: 0.8613196762157612\n"
     ]
    }
   ],
   "source": [
    "from sklearn.naive_bayes import GaussianNB\n",
    "\n",
    "gnb = GaussianNB()\n",
    "gnb.fit(X_train, y_train)\n",
    "\n",
    "y = df.cdrHigh\n",
    "model = gnb\n",
    "\n",
    "scores = cross_val_score(model, df, y, cv=6)\n",
    "print(scores)\n",
    "\n",
    "gnbPredictions = cross_val_predict(model, df, y, cv = 6)\n",
    "\n",
    "# Compute the confusion matrix using crosstab function\n",
    "conf_mat = pd.crosstab(y, gnbPredictions,\n",
    "                       rownames=['Actual'], \n",
    "                       colnames=['Predicted'], \n",
    "                       margins = True)\n",
    "\n",
    "# Print the confusion matrix\n",
    "print('Confusion Matrix')\n",
    "print(conf_mat)\n",
    "\n",
    "print('accuracy: ', metrics.accuracy_score(y, gnbPredictions))\n",
    "\n",
    "print(\"precision:\",metrics.precision_score(y, gnbPredictions))\n",
    "\n",
    "print(\"recall:\",metrics.recall_score(y, gnbPredictions))\n",
    "\n",
    "print(\"kappa:\",metrics.cohen_kappa_score(y, gnbPredictions))"
   ]
  },
  {
   "cell_type": "markdown",
   "metadata": {},
   "source": [
    "## Logistic Regression"
   ]
  },
  {
   "cell_type": "code",
   "execution_count": 13,
   "metadata": {},
   "outputs": [
    {
     "data": {
      "application/javascript": [
       "\n",
       "        if (window._pyforest_update_imports_cell) { window._pyforest_update_imports_cell('import matplotlib.pyplot as plt\\nimport pandas as pd'); }\n",
       "    "
      ],
      "text/plain": [
       "<IPython.core.display.Javascript object>"
      ]
     },
     "metadata": {},
     "output_type": "display_data"
    },
    {
     "name": "stdout",
     "output_type": "stream",
     "text": [
      "Confusion Matrix\n",
      "Predicted    0     1   All\n",
      "Actual                    \n",
      "0          598  1197  1795\n",
      "1            0  1796  1796\n",
      "All        598  2993  3591\n",
      "accuracy:  0.6666666666666666\n",
      "precision: 0.600066822586034\n",
      "recall: 1.0\n",
      "kappa: 0.3332094924286152\n"
     ]
    }
   ],
   "source": [
    "import sklearn.linear_model as lm\n",
    "\n",
    "log = lm.LogisticRegression(max_iter = 200).fit(X_train, y_train)\n",
    "\n",
    "model = log\n",
    "\n",
    "y = df.cdrHigh\n",
    "\n",
    "# Compute class predictions: y_prediction\n",
    "logPredictions = cross_val_predict(model, df, y, cv = 6)\n",
    "\n",
    "# Compute the confusion matrix using crosstab function\n",
    "conf_mat = pd.crosstab(y, logPredictions,\n",
    "                       rownames=['Actual'], \n",
    "                       colnames=['Predicted'], \n",
    "                       margins = True)\n",
    "\n",
    "# Print the confusion matrix\n",
    "print('Confusion Matrix')\n",
    "print(conf_mat)\n",
    "\n",
    "print('accuracy: ', metrics.accuracy_score(y, logPredictions))\n",
    "\n",
    "print(\"precision:\",metrics.precision_score(y, logPredictions))\n",
    "\n",
    "print(\"recall:\",metrics.recall_score(y, logPredictions))\n",
    "\n",
    "print(\"kappa:\",metrics.cohen_kappa_score(y, logPredictions))"
   ]
  },
  {
   "cell_type": "markdown",
   "metadata": {},
   "source": [
    "## SVM"
   ]
  },
  {
   "cell_type": "code",
   "execution_count": 14,
   "metadata": {},
   "outputs": [
    {
     "data": {
      "application/javascript": [
       "\n",
       "        if (window._pyforest_update_imports_cell) { window._pyforest_update_imports_cell('import matplotlib.pyplot as plt\\nimport pandas as pd'); }\n",
       "    "
      ],
      "text/plain": [
       "<IPython.core.display.Javascript object>"
      ]
     },
     "metadata": {},
     "output_type": "display_data"
    },
    {
     "name": "stdout",
     "output_type": "stream",
     "text": [
      "Confusion Matrix\n",
      "Predicted     0     1   All\n",
      "Actual                     \n",
      "0           971   824  1795\n",
      "1          1263   533  1796\n",
      "All        2234  1357  3591\n",
      "accuracy:  0.41882483987747143\n",
      "precision: 0.39277818717759766\n",
      "recall: 0.2967706013363029\n",
      "kappa: -0.16227127490218396\n"
     ]
    }
   ],
   "source": [
    "from sklearn import svm\n",
    "\n",
    "svm = svm.SVC(kernel = 'rbf')\n",
    "\n",
    "svm.fit(X_train, y_train)\n",
    "\n",
    "model = svm\n",
    "\n",
    "y = df.cdrHigh\n",
    "\n",
    "# Compute class predictions: y_prediction\n",
    "svmPredictions = cross_val_predict(model, df, y, cv = 6)\n",
    "\n",
    "# Compute the confusion matrix using crosstab function\n",
    "conf_mat = pd.crosstab(y, svmPredictions,\n",
    "                       rownames=['Actual'], \n",
    "                       colnames=['Predicted'], \n",
    "                       margins = True)\n",
    "\n",
    "# Print the confusion matrix\n",
    "print('Confusion Matrix')\n",
    "print(conf_mat)\n",
    "\n",
    "print('accuracy: ', metrics.accuracy_score(y, svmPredictions))\n",
    "\n",
    "print(\"precision:\",metrics.precision_score(y, svmPredictions))\n",
    "\n",
    "print(\"recall:\",metrics.recall_score(y, svmPredictions))\n",
    "\n",
    "print(\"kappa:\",metrics.cohen_kappa_score(y, svmPredictions))"
   ]
  },
  {
   "cell_type": "markdown",
   "metadata": {},
   "source": [
    "## Elastic Net"
   ]
  },
  {
   "cell_type": "code",
   "execution_count": 16,
   "metadata": {},
   "outputs": [
    {
     "data": {
      "application/javascript": [
       "\n",
       "        if (window._pyforest_update_imports_cell) { window._pyforest_update_imports_cell('import matplotlib.pyplot as plt\\nimport pandas as pd'); }\n",
       "    "
      ],
      "text/plain": [
       "<IPython.core.display.Javascript object>"
      ]
     },
     "metadata": {},
     "output_type": "display_data"
    },
    {
     "name": "stdout",
     "output_type": "stream",
     "text": [
      "Confusion Matrix\n",
      "Predicted  0.4268507297426985  0.42687599715177293  0.4269138982653846  \\\n",
      "Actual                                                                   \n",
      "0                           1                    1                   0   \n",
      "1                           0                    0                   1   \n",
      "All                         1                    1                   1   \n",
      "\n",
      "Predicted  0.4269517993789963  0.4269581162312649  0.4269644330835335  \\\n",
      "Actual                                                                  \n",
      "0                           0                   1                   0   \n",
      "1                           1                   0                   1   \n",
      "All                         1                   1                   1   \n",
      "\n",
      "Predicted  0.42703391845848826  0.427248691435621  0.42748241496955963  \\\n",
      "Actual                                                                   \n",
      "0                            0                  0                    1   \n",
      "1                            1                  1                    0   \n",
      "All                          1                  1                    1   \n",
      "\n",
      "Predicted  0.4275266329354399  ...  0.7201413766615195  0.7202306565823328  \\\n",
      "Actual                         ...                                           \n",
      "0                           0  ...                   1                   0   \n",
      "1                           1  ...                   0                   1   \n",
      "All                         1  ...                   1                   1   \n",
      "\n",
      "Predicted  0.7202604165559372  0.7204240964107615  0.7206919361732016  \\\n",
      "Actual                                                                  \n",
      "0                           0                   0                   1   \n",
      "1                           1                   1                   0   \n",
      "All                         1                   1                   1   \n",
      "\n",
      "Predicted  0.7211829757376749  0.721659135315346  0.7220980949260115  \\\n",
      "Actual                                                                 \n",
      "0                           1                  0                   1   \n",
      "1                           0                  1                   0   \n",
      "All                         1                  1                   1   \n",
      "\n",
      "Predicted  0.7227825743189137   All  \n",
      "Actual                               \n",
      "0                           0  1795  \n",
      "1                           1  1796  \n",
      "All                         1  3591  \n",
      "\n",
      "[3 rows x 3592 columns]\n"
     ]
    },
    {
     "ename": "ValueError",
     "evalue": "Classification metrics can't handle a mix of binary and continuous targets",
     "output_type": "error",
     "traceback": [
      "\u001b[0;31m---------------------------------------------------------------------------\u001b[0m",
      "\u001b[0;31mValueError\u001b[0m                                Traceback (most recent call last)",
      "\u001b[0;32m<ipython-input-16-9ec94e5975c2>\u001b[0m in \u001b[0;36m<module>\u001b[0;34m\u001b[0m\n\u001b[1;32m     21\u001b[0m \u001b[0mprint\u001b[0m\u001b[0;34m(\u001b[0m\u001b[0mconf_mat\u001b[0m\u001b[0;34m)\u001b[0m\u001b[0;34m\u001b[0m\u001b[0;34m\u001b[0m\u001b[0m\n\u001b[1;32m     22\u001b[0m \u001b[0;34m\u001b[0m\u001b[0m\n\u001b[0;32m---> 23\u001b[0;31m \u001b[0mprint\u001b[0m\u001b[0;34m(\u001b[0m\u001b[0;34m'accuracy: '\u001b[0m\u001b[0;34m,\u001b[0m \u001b[0mmetrics\u001b[0m\u001b[0;34m.\u001b[0m\u001b[0maccuracy_score\u001b[0m\u001b[0;34m(\u001b[0m\u001b[0my\u001b[0m\u001b[0;34m,\u001b[0m \u001b[0melasticPredictions\u001b[0m\u001b[0;34m)\u001b[0m\u001b[0;34m)\u001b[0m\u001b[0;34m\u001b[0m\u001b[0;34m\u001b[0m\u001b[0m\n\u001b[0m\u001b[1;32m     24\u001b[0m \u001b[0;34m\u001b[0m\u001b[0m\n\u001b[1;32m     25\u001b[0m \u001b[0mprint\u001b[0m\u001b[0;34m(\u001b[0m\u001b[0;34m\"precision:\"\u001b[0m\u001b[0;34m,\u001b[0m\u001b[0mmetrics\u001b[0m\u001b[0;34m.\u001b[0m\u001b[0mprecision_score\u001b[0m\u001b[0;34m(\u001b[0m\u001b[0my\u001b[0m\u001b[0;34m,\u001b[0m \u001b[0melasticPredictions\u001b[0m\u001b[0;34m)\u001b[0m\u001b[0;34m)\u001b[0m\u001b[0;34m\u001b[0m\u001b[0;34m\u001b[0m\u001b[0m\n",
      "\u001b[0;32m~/opt/anaconda3/lib/python3.7/site-packages/sklearn/metrics/_classification.py\u001b[0m in \u001b[0;36maccuracy_score\u001b[0;34m(y_true, y_pred, normalize, sample_weight)\u001b[0m\n\u001b[1;32m    183\u001b[0m \u001b[0;34m\u001b[0m\u001b[0m\n\u001b[1;32m    184\u001b[0m     \u001b[0;31m# Compute accuracy for each possible representation\u001b[0m\u001b[0;34m\u001b[0m\u001b[0;34m\u001b[0m\u001b[0;34m\u001b[0m\u001b[0m\n\u001b[0;32m--> 185\u001b[0;31m     \u001b[0my_type\u001b[0m\u001b[0;34m,\u001b[0m \u001b[0my_true\u001b[0m\u001b[0;34m,\u001b[0m \u001b[0my_pred\u001b[0m \u001b[0;34m=\u001b[0m \u001b[0m_check_targets\u001b[0m\u001b[0;34m(\u001b[0m\u001b[0my_true\u001b[0m\u001b[0;34m,\u001b[0m \u001b[0my_pred\u001b[0m\u001b[0;34m)\u001b[0m\u001b[0;34m\u001b[0m\u001b[0;34m\u001b[0m\u001b[0m\n\u001b[0m\u001b[1;32m    186\u001b[0m     \u001b[0mcheck_consistent_length\u001b[0m\u001b[0;34m(\u001b[0m\u001b[0my_true\u001b[0m\u001b[0;34m,\u001b[0m \u001b[0my_pred\u001b[0m\u001b[0;34m,\u001b[0m \u001b[0msample_weight\u001b[0m\u001b[0;34m)\u001b[0m\u001b[0;34m\u001b[0m\u001b[0;34m\u001b[0m\u001b[0m\n\u001b[1;32m    187\u001b[0m     \u001b[0;32mif\u001b[0m \u001b[0my_type\u001b[0m\u001b[0;34m.\u001b[0m\u001b[0mstartswith\u001b[0m\u001b[0;34m(\u001b[0m\u001b[0;34m'multilabel'\u001b[0m\u001b[0;34m)\u001b[0m\u001b[0;34m:\u001b[0m\u001b[0;34m\u001b[0m\u001b[0;34m\u001b[0m\u001b[0m\n",
      "\u001b[0;32m~/opt/anaconda3/lib/python3.7/site-packages/sklearn/metrics/_classification.py\u001b[0m in \u001b[0;36m_check_targets\u001b[0;34m(y_true, y_pred)\u001b[0m\n\u001b[1;32m     88\u001b[0m     \u001b[0;32mif\u001b[0m \u001b[0mlen\u001b[0m\u001b[0;34m(\u001b[0m\u001b[0my_type\u001b[0m\u001b[0;34m)\u001b[0m \u001b[0;34m>\u001b[0m \u001b[0;36m1\u001b[0m\u001b[0;34m:\u001b[0m\u001b[0;34m\u001b[0m\u001b[0;34m\u001b[0m\u001b[0m\n\u001b[1;32m     89\u001b[0m         raise ValueError(\"Classification metrics can't handle a mix of {0} \"\n\u001b[0;32m---> 90\u001b[0;31m                          \"and {1} targets\".format(type_true, type_pred))\n\u001b[0m\u001b[1;32m     91\u001b[0m \u001b[0;34m\u001b[0m\u001b[0m\n\u001b[1;32m     92\u001b[0m     \u001b[0;31m# We can't have more than one value on y_type => The set is no more needed\u001b[0m\u001b[0;34m\u001b[0m\u001b[0;34m\u001b[0m\u001b[0;34m\u001b[0m\u001b[0m\n",
      "\u001b[0;31mValueError\u001b[0m: Classification metrics can't handle a mix of binary and continuous targets"
     ]
    }
   ],
   "source": [
    "from sklearn.linear_model import ElasticNet\n",
    "\n",
    "elastic = ElasticNet(random_state=0)\n",
    "elastic.fit(X_train, y_train)\n",
    "\n",
    "model = elastic\n",
    "\n",
    "y = df.cdrHigh\n",
    "\n",
    "# Compute class predictions: y_prediction\n",
    "elasticPredictions = cross_val_predict(model, df, y, cv = 6)\n",
    "\n",
    "# Compute the confusion matrix using crosstab function\n",
    "conf_mat = pd.crosstab(y, elasticPredictions,\n",
    "                       rownames=['Actual'], \n",
    "                       colnames=['Predicted'], \n",
    "                       margins = True)\n",
    "\n",
    "# Print the confusion matrix\n",
    "print('Confusion Matrix')\n",
    "print(conf_mat)\n",
    "\n",
    "print('accuracy: ', metrics.accuracy_score(y, elasticPredictions))\n",
    "\n",
    "print(\"precision:\",metrics.precision_score(y, elasticPredictions))\n",
    "\n",
    "print(\"recall:\",metrics.recall_score(y, elasticPredictions))\n",
    "\n",
    "print(\"kappa:\",metrics.cohen_kappa_score(y, elasticPredictions))"
   ]
  },
  {
   "cell_type": "markdown",
   "metadata": {},
   "source": [
    "## AUC Curves"
   ]
  },
  {
   "cell_type": "code",
   "execution_count": 15,
   "metadata": {},
   "outputs": [
    {
     "data": {
      "application/javascript": [
       "\n",
       "        if (window._pyforest_update_imports_cell) { window._pyforest_update_imports_cell('import matplotlib.pyplot as plt\\nimport pandas as pd'); }\n",
       "    "
      ],
      "text/plain": [
       "<IPython.core.display.Javascript object>"
      ]
     },
     "metadata": {},
     "output_type": "display_data"
    },
    {
     "name": "stdout",
     "output_type": "stream",
     "text": [
      "SVM AUC:  0.7350127353365513\n"
     ]
    },
    {
     "data": {
      "application/javascript": [
       "\n",
       "        if (window._pyforest_update_imports_cell) { window._pyforest_update_imports_cell('import matplotlib.pyplot as plt\\nimport pandas as pd'); }\n",
       "    "
      ],
      "text/plain": [
       "<IPython.core.display.Javascript object>"
      ]
     },
     "metadata": {},
     "output_type": "display_data"
    },
    {
     "name": "stdout",
     "output_type": "stream",
     "text": [
      "NB AUC:  0.6718500970735444\n"
     ]
    },
    {
     "data": {
      "application/javascript": [
       "\n",
       "        if (window._pyforest_update_imports_cell) { window._pyforest_update_imports_cell('import matplotlib.pyplot as plt\\nimport pandas as pd'); }\n",
       "    "
      ],
      "text/plain": [
       "<IPython.core.display.Javascript object>"
      ]
     },
     "metadata": {},
     "output_type": "display_data"
    },
    {
     "name": "stdout",
     "output_type": "stream",
     "text": [
      "KNN AUC:  0.6035037315426679\n"
     ]
    },
    {
     "data": {
      "application/javascript": [
       "\n",
       "        if (window._pyforest_update_imports_cell) { window._pyforest_update_imports_cell('import matplotlib.pyplot as plt\\nimport pandas as pd'); }\n",
       "    "
      ],
      "text/plain": [
       "<IPython.core.display.Javascript object>"
      ]
     },
     "metadata": {},
     "output_type": "display_data"
    },
    {
     "name": "stdout",
     "output_type": "stream",
     "text": [
      "Log AUC:  0.3877514561031652\n"
     ]
    },
    {
     "data": {
      "application/javascript": [
       "\n",
       "        if (window._pyforest_update_imports_cell) { window._pyforest_update_imports_cell('import matplotlib.pyplot as plt\\nimport pandas as pd'); }\n",
       "    "
      ],
      "text/plain": [
       "<IPython.core.display.Javascript object>"
      ]
     },
     "metadata": {},
     "output_type": "display_data"
    },
    {
     "data": {
      "application/javascript": [
       "\n",
       "        if (window._pyforest_update_imports_cell) { window._pyforest_update_imports_cell('import matplotlib.pyplot as plt\\nimport pandas as pd'); }\n",
       "    "
      ],
      "text/plain": [
       "<IPython.core.display.Javascript object>"
      ]
     },
     "metadata": {},
     "output_type": "display_data"
    },
    {
     "data": {
      "application/javascript": [
       "\n",
       "        if (window._pyforest_update_imports_cell) { window._pyforest_update_imports_cell('import matplotlib.pyplot as plt\\nimport pandas as pd'); }\n",
       "    "
      ],
      "text/plain": [
       "<IPython.core.display.Javascript object>"
      ]
     },
     "metadata": {},
     "output_type": "display_data"
    },
    {
     "data": {
      "application/javascript": [
       "\n",
       "        if (window._pyforest_update_imports_cell) { window._pyforest_update_imports_cell('import matplotlib.pyplot as plt\\nimport pandas as pd'); }\n",
       "    "
      ],
      "text/plain": [
       "<IPython.core.display.Javascript object>"
      ]
     },
     "metadata": {},
     "output_type": "display_data"
    },
    {
     "data": {
      "application/javascript": [
       "\n",
       "        if (window._pyforest_update_imports_cell) { window._pyforest_update_imports_cell('import matplotlib.pyplot as plt\\nimport pandas as pd'); }\n",
       "    "
      ],
      "text/plain": [
       "<IPython.core.display.Javascript object>"
      ]
     },
     "metadata": {},
     "output_type": "display_data"
    },
    {
     "data": {
      "application/javascript": [
       "\n",
       "        if (window._pyforest_update_imports_cell) { window._pyforest_update_imports_cell('import matplotlib.pyplot as plt\\nimport pandas as pd'); }\n",
       "    "
      ],
      "text/plain": [
       "<IPython.core.display.Javascript object>"
      ]
     },
     "metadata": {},
     "output_type": "display_data"
    },
    {
     "data": {
      "application/javascript": [
       "\n",
       "        if (window._pyforest_update_imports_cell) { window._pyforest_update_imports_cell('import matplotlib.pyplot as plt\\nimport pandas as pd'); }\n",
       "    "
      ],
      "text/plain": [
       "<IPython.core.display.Javascript object>"
      ]
     },
     "metadata": {},
     "output_type": "display_data"
    },
    {
     "data": {
      "application/javascript": [
       "\n",
       "        if (window._pyforest_update_imports_cell) { window._pyforest_update_imports_cell('import matplotlib.pyplot as plt\\nimport pandas as pd'); }\n",
       "    "
      ],
      "text/plain": [
       "<IPython.core.display.Javascript object>"
      ]
     },
     "metadata": {},
     "output_type": "display_data"
    },
    {
     "data": {
      "application/javascript": [
       "\n",
       "        if (window._pyforest_update_imports_cell) { window._pyforest_update_imports_cell('import matplotlib.pyplot as plt\\nimport pandas as pd'); }\n",
       "    "
      ],
      "text/plain": [
       "<IPython.core.display.Javascript object>"
      ]
     },
     "metadata": {},
     "output_type": "display_data"
    },
    {
     "data": {
      "image/png": "[encoded data removed]",
      "text/plain": [
       "<Figure size 720x720 with 1 Axes>"
      ]
     },
     "metadata": {
      "needs_background": "light"
     },
     "output_type": "display_data"
    }
   ],
   "source": [
    "from pylab import rcParams\n",
    "rcParams['figure.figsize'] = 10, 10\n",
    "\n",
    "# SVM\n",
    "svmfpr, svmtpr, svmthreshold = metrics.roc_curve(df.proprietary, svmPredictions)\n",
    "svmroc_auc = metrics.auc(svmfpr, svmtpr)\n",
    "plt.plot(svmfpr, svmtpr, 'm', label = 'SVM AUC = %0.2f' % svmroc_auc)\n",
    "print('SVM AUC: ', svmroc_auc)\n",
    "\n",
    "# Naive bayes\n",
    "gnbfpr, gnbtpr, gnbthreshold = metrics.roc_curve(df.proprietary, gnbPredictions)\n",
    "gnbroc_auc = metrics.auc(gnbfpr, gnbtpr)\n",
    "plt.plot(gnbfpr, gnbtpr, 'b', label = 'NB AUC = %0.2f' % gnbroc_auc)\n",
    "print('NB AUC: ', gnbroc_auc)\n",
    "\n",
    "# KNN\n",
    "KNNfpr, KNNtpr, KNNthreshold = metrics.roc_curve(df.proprietary, KNNpredictions)\n",
    "KNNroc_auc = metrics.auc(KNNfpr, KNNtpr)\n",
    "plt.plot(KNNfpr, KNNtpr, 'y', label = 'KNN AUC = %0.2f' % KNNroc_auc)\n",
    "print('KNN AUC: ', KNNroc_auc)\n",
    "\n",
    "\n",
    "\n",
    "# Logistic Regression\n",
    "logfpr, logtpr, logthreshold = metrics.roc_curve(df.proprietary, logPredictions)\n",
    "logroc_auc = metrics.auc(logfpr, logtpr)\n",
    "plt.plot(logfpr, logtpr, 'g', label = 'LR AUC = %0.2f' % logroc_auc)\n",
    "print('Log AUC: ', logroc_auc)\n",
    "\n",
    "\n",
    "\n",
    "plt.legend(loc = 'lower right')\n",
    "plt.plot([0, 1], [0, 1],'r--')\n",
    "plt.xlim([0, 1])\n",
    "plt.ylim([0, 1])\n",
    "plt.ylabel('True Positive Rate')\n",
    "plt.xlabel('False Positive Rate')\n",
    "plt.title('AUC Curves for Predict High CDR')\n",
    "\n",
    "\n",
    "# plt.savefig('cdrHighAUC.png')\n",
    "plt.show()\n",
    "\n"
   ]
  },
  {
   "cell_type": "code",
   "execution_count": null,
   "metadata": {},
   "outputs": [],
   "source": []
  },
  {
   "cell_type": "code",
   "execution_count": null,
   "metadata": {},
   "outputs": [],
   "source": []
  }
 ],
 "metadata": {
  "kernelspec": {
   "display_name": "Python 3",
   "language": "python",
   "name": "python3"
  },
  "language_info": {
   "codemirror_mode": {
    "name": "ipython",
    "version": 3
   },
   "file_extension": ".py",
   "mimetype": "text/x-python",
   "name": "python",
   "nbconvert_exporter": "python",
   "pygments_lexer": "ipython3",
   "version": "3.7.4"
  }
 },
 "nbformat": 4,
 "nbformat_minor": 4
}
