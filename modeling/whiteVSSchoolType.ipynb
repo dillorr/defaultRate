{
 "cells": [
  {
   "cell_type": "markdown",
   "metadata": {},
   "source": [
    "# Whiteness vs Type of Schools in Counties"
   ]
  },
  {
   "cell_type": "code",
   "execution_count": 2,
   "metadata": {},
   "outputs": [
    {
     "data": {
      "application/javascript": [
       "\n",
       "        if (window._pyforest_update_imports_cell) { window._pyforest_update_imports_cell('import pandas as pd'); }\n",
       "    "
      ],
      "text/plain": [
       "<IPython.core.display.Javascript object>"
      ]
     },
     "metadata": {},
     "output_type": "display_data"
    },
    {
     "data": {
      "text/plain": [
       "Index(['opeid', 'agemedian', 'cdr2014_log', 'cdr2015_log', 'cdr2016_log',\n",
       "       'cohort2014_log', 'cohort2015_log', 'cohort2016_log', 'density_log',\n",
       "       'educationcollegeorabove', 'familysize_log', 'female_sqrt',\n",
       "       'homeownership', 'homevalue_log', 'incomehouseholdmedian_log',\n",
       "       'incomehouseholdsixfigure_log', 'laborforceparticipation_sqrt',\n",
       "       'male_reciprocal', 'married', 'population_log', 'proglength',\n",
       "       'raceasian_log', 'raceblack_log', 'racemultiple_log',\n",
       "       'racenative_reciprocal', 'raceother_log', 'racepacific', 'racewhite',\n",
       "       'rentmedian_log', 'unemploymentrate_log', 'associates', 'bachelors',\n",
       "       'firstprofessional', 'gradprofessional', 'mastersordoctors',\n",
       "       'nondegree', 'nondegree1year', 'nondegree2years', 'nondegree3years',\n",
       "       'private', 'proprietary', 'public', 'hbcuCollege', 'hispanicCollege',\n",
       "       'nativeAmericanCollege', 'notReportedCollege'],\n",
       "      dtype='object')"
      ]
     },
     "execution_count": 2,
     "metadata": {},
     "output_type": "execute_result"
    }
   ],
   "source": [
    "# import dataset without foreign schools and missing data\n",
    "df = pd.read_csv(r'../data/modeling/combined.csv', encoding = \"ISO-8859-1\")\n",
    "df.columns"
   ]
  },
  {
   "cell_type": "code",
   "execution_count": 141,
   "metadata": {},
   "outputs": [
    {
     "name": "stdout",
     "output_type": "stream",
     "text": [
      "median:  0.7307692309999999\n",
      "mean:  0.6991731465795044\n"
     ]
    }
   ],
   "source": [
    "print('median: ', df.racewhite.median())"
   ]
  },
  {
   "cell_type": "code",
   "execution_count": 143,
   "metadata": {},
   "outputs": [
    {
     "data": {
      "text/plain": [
       "1    1797\n",
       "0    1794\n",
       "Name: highWhite, dtype: int64"
      ]
     },
     "execution_count": 143,
     "metadata": {},
     "output_type": "execute_result"
    }
   ],
   "source": [
    "threshold = df.racewhite.median()\n",
    "\n",
    "df['highWhite'] = [1 if x >= threshold else 0 for x in df.racewhite]\n",
    "df.highWhite.value_counts()"
   ]
  },
  {
   "cell_type": "code",
   "execution_count": 144,
   "metadata": {},
   "outputs": [],
   "source": [
    "# adding schoolType back\n",
    "label = []\n",
    "for row in df.itertuples():\n",
    "    if row.private == 1:\n",
    "        label.append('private')\n",
    "    elif row.proprietary == 1:\n",
    "        label.append('proprietary')\n",
    "    else:\n",
    "        label.append('public')\n",
    "df['schoolType'] = label"
   ]
  },
  {
   "cell_type": "code",
   "execution_count": 145,
   "metadata": {},
   "outputs": [],
   "source": [
    "grouped = df.groupby(['highWhite', 'schoolType'])"
   ]
  },
  {
   "cell_type": "code",
   "execution_count": 146,
   "metadata": {},
   "outputs": [
    {
     "data": {
      "text/html": [
       "<div>\n",
       "<style scoped>\n",
       "    .dataframe tbody tr th:only-of-type {\n",
       "        vertical-align: middle;\n",
       "    }\n",
       "\n",
       "    .dataframe tbody tr th {\n",
       "        vertical-align: top;\n",
       "    }\n",
       "\n",
       "    .dataframe thead tr th {\n",
       "        text-align: left;\n",
       "    }\n",
       "\n",
       "    .dataframe thead tr:last-of-type th {\n",
       "        text-align: right;\n",
       "    }\n",
       "</style>\n",
       "<table border=\"1\" class=\"dataframe\">\n",
       "  <thead>\n",
       "    <tr>\n",
       "      <th></th>\n",
       "      <th></th>\n",
       "      <th colspan=\"8\" halign=\"left\">opeid</th>\n",
       "      <th colspan=\"2\" halign=\"left\">agemedian</th>\n",
       "      <th>...</th>\n",
       "      <th colspan=\"2\" halign=\"left\">nativeAmericanCollege</th>\n",
       "      <th colspan=\"8\" halign=\"left\">notReportedCollege</th>\n",
       "    </tr>\n",
       "    <tr>\n",
       "      <th></th>\n",
       "      <th></th>\n",
       "      <th>count</th>\n",
       "      <th>mean</th>\n",
       "      <th>std</th>\n",
       "      <th>min</th>\n",
       "      <th>25%</th>\n",
       "      <th>50%</th>\n",
       "      <th>75%</th>\n",
       "      <th>max</th>\n",
       "      <th>count</th>\n",
       "      <th>mean</th>\n",
       "      <th>...</th>\n",
       "      <th>75%</th>\n",
       "      <th>max</th>\n",
       "      <th>count</th>\n",
       "      <th>mean</th>\n",
       "      <th>std</th>\n",
       "      <th>min</th>\n",
       "      <th>25%</th>\n",
       "      <th>50%</th>\n",
       "      <th>75%</th>\n",
       "      <th>max</th>\n",
       "    </tr>\n",
       "    <tr>\n",
       "      <th>highWhite</th>\n",
       "      <th>schoolType</th>\n",
       "      <th></th>\n",
       "      <th></th>\n",
       "      <th></th>\n",
       "      <th></th>\n",
       "      <th></th>\n",
       "      <th></th>\n",
       "      <th></th>\n",
       "      <th></th>\n",
       "      <th></th>\n",
       "      <th></th>\n",
       "      <th></th>\n",
       "      <th></th>\n",
       "      <th></th>\n",
       "      <th></th>\n",
       "      <th></th>\n",
       "      <th></th>\n",
       "      <th></th>\n",
       "      <th></th>\n",
       "      <th></th>\n",
       "      <th></th>\n",
       "      <th></th>\n",
       "    </tr>\n",
       "  </thead>\n",
       "  <tbody>\n",
       "    <tr>\n",
       "      <th rowspan=\"3\" valign=\"top\">0</th>\n",
       "      <th>private</th>\n",
       "      <td>652.0</td>\n",
       "      <td>9452.932515</td>\n",
       "      <td>12084.711218</td>\n",
       "      <td>1003.0</td>\n",
       "      <td>2146.75</td>\n",
       "      <td>3271.0</td>\n",
       "      <td>10587.00</td>\n",
       "      <td>42355.0</td>\n",
       "      <td>652.0</td>\n",
       "      <td>0.287862</td>\n",
       "      <td>...</td>\n",
       "      <td>0.0</td>\n",
       "      <td>0.0</td>\n",
       "      <td>652.0</td>\n",
       "      <td>0.926380</td>\n",
       "      <td>0.261351</td>\n",
       "      <td>0.0</td>\n",
       "      <td>1.0</td>\n",
       "      <td>1.0</td>\n",
       "      <td>1.0</td>\n",
       "      <td>1.0</td>\n",
       "    </tr>\n",
       "    <tr>\n",
       "      <th>proprietary</th>\n",
       "      <td>598.0</td>\n",
       "      <td>28983.145485</td>\n",
       "      <td>11939.111984</td>\n",
       "      <td>1177.0</td>\n",
       "      <td>21874.50</td>\n",
       "      <td>31085.5</td>\n",
       "      <td>41200.25</td>\n",
       "      <td>42297.0</td>\n",
       "      <td>598.0</td>\n",
       "      <td>0.299664</td>\n",
       "      <td>...</td>\n",
       "      <td>0.0</td>\n",
       "      <td>0.0</td>\n",
       "      <td>598.0</td>\n",
       "      <td>0.996656</td>\n",
       "      <td>0.057783</td>\n",
       "      <td>0.0</td>\n",
       "      <td>1.0</td>\n",
       "      <td>1.0</td>\n",
       "      <td>1.0</td>\n",
       "      <td>1.0</td>\n",
       "    </tr>\n",
       "    <tr>\n",
       "      <th>public</th>\n",
       "      <td>544.0</td>\n",
       "      <td>6665.724265</td>\n",
       "      <td>8472.462587</td>\n",
       "      <td>1004.0</td>\n",
       "      <td>1727.50</td>\n",
       "      <td>3448.5</td>\n",
       "      <td>7880.50</td>\n",
       "      <td>42636.0</td>\n",
       "      <td>544.0</td>\n",
       "      <td>0.282830</td>\n",
       "      <td>...</td>\n",
       "      <td>0.0</td>\n",
       "      <td>0.0</td>\n",
       "      <td>544.0</td>\n",
       "      <td>0.869485</td>\n",
       "      <td>0.337179</td>\n",
       "      <td>0.0</td>\n",
       "      <td>1.0</td>\n",
       "      <td>1.0</td>\n",
       "      <td>1.0</td>\n",
       "      <td>1.0</td>\n",
       "    </tr>\n",
       "    <tr>\n",
       "      <th rowspan=\"3\" valign=\"top\">1</th>\n",
       "      <th>private</th>\n",
       "      <td>540.0</td>\n",
       "      <td>7549.361111</td>\n",
       "      <td>10307.403649</td>\n",
       "      <td>1088.0</td>\n",
       "      <td>2091.25</td>\n",
       "      <td>3226.5</td>\n",
       "      <td>6411.75</td>\n",
       "      <td>41938.0</td>\n",
       "      <td>540.0</td>\n",
       "      <td>0.320540</td>\n",
       "      <td>...</td>\n",
       "      <td>0.0</td>\n",
       "      <td>0.0</td>\n",
       "      <td>540.0</td>\n",
       "      <td>0.981481</td>\n",
       "      <td>0.134942</td>\n",
       "      <td>0.0</td>\n",
       "      <td>1.0</td>\n",
       "      <td>1.0</td>\n",
       "      <td>1.0</td>\n",
       "      <td>1.0</td>\n",
       "    </tr>\n",
       "    <tr>\n",
       "      <th>proprietary</th>\n",
       "      <td>552.0</td>\n",
       "      <td>28120.601449</td>\n",
       "      <td>11784.631258</td>\n",
       "      <td>1895.0</td>\n",
       "      <td>21628.50</td>\n",
       "      <td>26181.0</td>\n",
       "      <td>41242.00</td>\n",
       "      <td>42319.0</td>\n",
       "      <td>552.0</td>\n",
       "      <td>0.345259</td>\n",
       "      <td>...</td>\n",
       "      <td>0.0</td>\n",
       "      <td>0.0</td>\n",
       "      <td>552.0</td>\n",
       "      <td>1.000000</td>\n",
       "      <td>0.000000</td>\n",
       "      <td>1.0</td>\n",
       "      <td>1.0</td>\n",
       "      <td>1.0</td>\n",
       "      <td>1.0</td>\n",
       "      <td>1.0</td>\n",
       "    </tr>\n",
       "    <tr>\n",
       "      <th>public</th>\n",
       "      <td>705.0</td>\n",
       "      <td>7979.782979</td>\n",
       "      <td>9182.922355</td>\n",
       "      <td>1008.0</td>\n",
       "      <td>2488.00</td>\n",
       "      <td>3784.0</td>\n",
       "      <td>9272.00</td>\n",
       "      <td>42544.0</td>\n",
       "      <td>705.0</td>\n",
       "      <td>0.313818</td>\n",
       "      <td>...</td>\n",
       "      <td>0.0</td>\n",
       "      <td>1.0</td>\n",
       "      <td>705.0</td>\n",
       "      <td>0.933333</td>\n",
       "      <td>0.249621</td>\n",
       "      <td>0.0</td>\n",
       "      <td>1.0</td>\n",
       "      <td>1.0</td>\n",
       "      <td>1.0</td>\n",
       "      <td>1.0</td>\n",
       "    </tr>\n",
       "  </tbody>\n",
       "</table>\n",
       "<p>6 rows × 368 columns</p>\n",
       "</div>"
      ],
      "text/plain": [
       "                       opeid                                                \\\n",
       "                       count          mean           std     min       25%   \n",
       "highWhite schoolType                                                         \n",
       "0         private      652.0   9452.932515  12084.711218  1003.0   2146.75   \n",
       "          proprietary  598.0  28983.145485  11939.111984  1177.0  21874.50   \n",
       "          public       544.0   6665.724265   8472.462587  1004.0   1727.50   \n",
       "1         private      540.0   7549.361111  10307.403649  1088.0   2091.25   \n",
       "          proprietary  552.0  28120.601449  11784.631258  1895.0  21628.50   \n",
       "          public       705.0   7979.782979   9182.922355  1008.0   2488.00   \n",
       "\n",
       "                                                  agemedian            ...  \\\n",
       "                           50%       75%      max     count      mean  ...   \n",
       "highWhite schoolType                                                   ...   \n",
       "0         private       3271.0  10587.00  42355.0     652.0  0.287862  ...   \n",
       "          proprietary  31085.5  41200.25  42297.0     598.0  0.299664  ...   \n",
       "          public        3448.5   7880.50  42636.0     544.0  0.282830  ...   \n",
       "1         private       3226.5   6411.75  41938.0     540.0  0.320540  ...   \n",
       "          proprietary  26181.0  41242.00  42319.0     552.0  0.345259  ...   \n",
       "          public        3784.0   9272.00  42544.0     705.0  0.313818  ...   \n",
       "\n",
       "                      nativeAmericanCollege      notReportedCollege            \\\n",
       "                                        75%  max              count      mean   \n",
       "highWhite schoolType                                                            \n",
       "0         private                       0.0  0.0              652.0  0.926380   \n",
       "          proprietary                   0.0  0.0              598.0  0.996656   \n",
       "          public                        0.0  0.0              544.0  0.869485   \n",
       "1         private                       0.0  0.0              540.0  0.981481   \n",
       "          proprietary                   0.0  0.0              552.0  1.000000   \n",
       "          public                        0.0  1.0              705.0  0.933333   \n",
       "\n",
       "                                                          \n",
       "                            std  min  25%  50%  75%  max  \n",
       "highWhite schoolType                                      \n",
       "0         private      0.261351  0.0  1.0  1.0  1.0  1.0  \n",
       "          proprietary  0.057783  0.0  1.0  1.0  1.0  1.0  \n",
       "          public       0.337179  0.0  1.0  1.0  1.0  1.0  \n",
       "1         private      0.134942  0.0  1.0  1.0  1.0  1.0  \n",
       "          proprietary  0.000000  1.0  1.0  1.0  1.0  1.0  \n",
       "          public       0.249621  0.0  1.0  1.0  1.0  1.0  \n",
       "\n",
       "[6 rows x 368 columns]"
      ]
     },
     "execution_count": 146,
     "metadata": {},
     "output_type": "execute_result"
    }
   ],
   "source": [
    "grouped.describe()"
   ]
  },
  {
   "cell_type": "code",
   "execution_count": 147,
   "metadata": {},
   "outputs": [],
   "source": [
    "import numpy as np\n",
    "\n",
    "highWhite0 = {\n",
    "    'private' : grouped.get_group((0, 'private')).count().iloc[0],\n",
    "    'public' : grouped.get_group((0, 'public')).count().iloc[0],\n",
    "    'proprietary' : grouped.get_group((0, 'proprietary')).count().iloc[0],\n",
    "    'total': np.array(list(highWhite0.values())).sum()\n",
    "}\n",
    "\n",
    "highWhite1 = {\n",
    "    'private' : grouped.get_group((1, 'private')).count().iloc[0],\n",
    "    'public' : grouped.get_group((1, 'public')).count().iloc[0],\n",
    "    'proprietary' : grouped.get_group((1, 'proprietary')).count().iloc[0],\n",
    "    'total': np.array(list(highWhite1.values())).sum()\n",
    "}"
   ]
  },
  {
   "cell_type": "code",
   "execution_count": 148,
   "metadata": {},
   "outputs": [],
   "source": [
    "highWhite = ('0', '1')\n",
    "proprietary = (highWhite0.get('proprietary'), highWhite1.get('proprietary'))"
   ]
  },
  {
   "cell_type": "code",
   "execution_count": 149,
   "metadata": {},
   "outputs": [
    {
     "data": {
      "application/javascript": [
       "\n",
       "        if (window._pyforest_update_imports_cell) { window._pyforest_update_imports_cell('import matplotlib.pyplot as plt\\nimport numpy as np\\nimport pandas as pd'); }\n",
       "    "
      ],
      "text/plain": [
       "<IPython.core.display.Javascript object>"
      ]
     },
     "metadata": {},
     "output_type": "display_data"
    },
    {
     "data": {
      "text/html": [
       "<div>\n",
       "<style scoped>\n",
       "    .dataframe tbody tr th:only-of-type {\n",
       "        vertical-align: middle;\n",
       "    }\n",
       "\n",
       "    .dataframe tbody tr th {\n",
       "        vertical-align: top;\n",
       "    }\n",
       "\n",
       "    .dataframe thead th {\n",
       "        text-align: right;\n",
       "    }\n",
       "</style>\n",
       "<table border=\"1\" class=\"dataframe\">\n",
       "  <thead>\n",
       "    <tr style=\"text-align: right;\">\n",
       "      <th></th>\n",
       "      <th>highWhite</th>\n",
       "      <th>proprietary</th>\n",
       "    </tr>\n",
       "  </thead>\n",
       "  <tbody>\n",
       "    <tr>\n",
       "      <th>0</th>\n",
       "      <td>0</td>\n",
       "      <td>598</td>\n",
       "    </tr>\n",
       "    <tr>\n",
       "      <th>1</th>\n",
       "      <td>1</td>\n",
       "      <td>552</td>\n",
       "    </tr>\n",
       "  </tbody>\n",
       "</table>\n",
       "</div>"
      ],
      "text/plain": [
       "  highWhite  proprietary\n",
       "0         0          598\n",
       "1         1          552"
      ]
     },
     "execution_count": 149,
     "metadata": {},
     "output_type": "execute_result"
    }
   ],
   "source": [
    "white = pd.DataFrame(list(zip(highWhite, proprietary)), columns = ['highWhite', 'proprietary'])\n",
    "white"
   ]
  },
  {
   "cell_type": "code",
   "execution_count": 167,
   "metadata": {},
   "outputs": [
    {
     "data": {
      "application/javascript": [
       "\n",
       "        if (window._pyforest_update_imports_cell) { window._pyforest_update_imports_cell('import matplotlib.pyplot as plt\\nimport numpy as np\\nimport pandas as pd'); }\n",
       "    "
      ],
      "text/plain": [
       "<IPython.core.display.Javascript object>"
      ]
     },
     "metadata": {},
     "output_type": "display_data"
    },
    {
     "data": {
      "application/javascript": [
       "\n",
       "        if (window._pyforest_update_imports_cell) { window._pyforest_update_imports_cell('import matplotlib.pyplot as plt\\nimport numpy as np\\nimport pandas as pd'); }\n",
       "    "
      ],
      "text/plain": [
       "<IPython.core.display.Javascript object>"
      ]
     },
     "metadata": {},
     "output_type": "display_data"
    },
    {
     "data": {
      "application/javascript": [
       "\n",
       "        if (window._pyforest_update_imports_cell) { window._pyforest_update_imports_cell('import matplotlib.pyplot as plt\\nimport numpy as np\\nimport pandas as pd'); }\n",
       "    "
      ],
      "text/plain": [
       "<IPython.core.display.Javascript object>"
      ]
     },
     "metadata": {},
     "output_type": "display_data"
    },
    {
     "data": {
      "application/javascript": [
       "\n",
       "        if (window._pyforest_update_imports_cell) { window._pyforest_update_imports_cell('import matplotlib.pyplot as plt\\nimport numpy as np\\nimport pandas as pd'); }\n",
       "    "
      ],
      "text/plain": [
       "<IPython.core.display.Javascript object>"
      ]
     },
     "metadata": {},
     "output_type": "display_data"
    },
    {
     "data": {
      "image/png": "[encoded data removed]",
      "text/plain": [
       "<Figure size 432x288 with 1 Axes>"
      ]
     },
     "metadata": {},
     "output_type": "display_data"
    }
   ],
   "source": [
    "import seaborn as sns\n",
    "\n",
    "sns.set(style = 'darkgrid', font = 'serif', font_scale = .9)\n",
    "\n",
    "g = sns.barplot(x='highWhite', y = 'proprietary', data = white)\n",
    "plt.xlabel('High White Population in County')\n",
    "plt.ylabel('# Proprietary Institutions')\n",
    "plt.title('High White Population vs Proprietary Institution Count')\n",
    "plt.ylim(0,650)\n",
    "\n",
    "#label values\n",
    "for index, row in white.iterrows():\n",
    "    g.text(row.name,row.proprietary, round(row.proprietary,2), color='black', ha=\"center\")"
   ]
  },
  {
   "cell_type": "code",
   "execution_count": 182,
   "metadata": {},
   "outputs": [
    {
     "name": "stdout",
     "output_type": "stream",
     "text": [
      "Difference in # Proprietary Schools in Less White Counties:  8.33 %\n"
     ]
    }
   ],
   "source": [
    "smallerValue = highWhite1.get('proprietary')\n",
    "largerValue = highWhite0.get('proprietary')\n",
    "percentIncrease = (largerValue - smallerValue)/smallerValue * 100\n",
    "\n",
    "print('Difference in # Proprietary Schools in Less White Counties: ', percentIncrease.round(2), '%')"
   ]
  },
  {
   "cell_type": "code",
   "execution_count": null,
   "metadata": {},
   "outputs": [],
   "source": []
  }
 ],
 "metadata": {
  "kernelspec": {
   "display_name": "Python 3",
   "language": "python",
   "name": "python3"
  },
  "language_info": {
   "codemirror_mode": {
    "name": "ipython",
    "version": 3
   },
   "file_extension": ".py",
   "mimetype": "text/x-python",
   "name": "python",
   "nbconvert_exporter": "python",
   "pygments_lexer": "ipython3",
   "version": "3.7.4"
  }
 },
 "nbformat": 4,
 "nbformat_minor": 4
}
