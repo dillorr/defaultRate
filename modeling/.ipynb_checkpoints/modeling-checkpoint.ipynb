{
 "cells": [
  {
   "cell_type": "code",
   "execution_count": 1,
   "metadata": {},
   "outputs": [],
   "source": [
    "from pyforest import *"
   ]
  },
  {
   "cell_type": "code",
   "execution_count": 2,
   "metadata": {},
   "outputs": [
    {
     "data": {
      "application/javascript": [
       "\n",
       "        if (window._pyforest_update_imports_cell) { window._pyforest_update_imports_cell('import pandas as pd'); }\n",
       "    "
      ],
      "text/plain": [
       "<IPython.core.display.Javascript object>"
      ]
     },
     "metadata": {},
     "output_type": "display_data"
    }
   ],
   "source": [
    "# import dataset without foreign schools\n",
    "df = pd.read_csv(r'/Users/dillorr/defaultRate/dillon/defaultRate/data/modeling/combined.csv', encoding = \"ISO-8859-1\")"
   ]
  },
  {
   "cell_type": "markdown",
   "metadata": {},
   "source": [
    "# Modeling"
   ]
  },
  {
   "cell_type": "markdown",
   "metadata": {},
   "source": [
    "### Train Test Split"
   ]
  },
  {
   "cell_type": "code",
   "execution_count": 26,
   "metadata": {},
   "outputs": [
    {
     "data": {
      "application/javascript": [
       "\n",
       "        if (window._pyforest_update_imports_cell) { window._pyforest_update_imports_cell('import numpy as np\\nimport pandas as pd'); }\n",
       "    "
      ],
      "text/plain": [
       "<IPython.core.display.Javascript object>"
      ]
     },
     "metadata": {},
     "output_type": "display_data"
    },
    {
     "data": {
      "application/javascript": [
       "\n",
       "        if (window._pyforest_update_imports_cell) { window._pyforest_update_imports_cell('import numpy as np\\nimport pandas as pd'); }\n",
       "    "
      ],
      "text/plain": [
       "<IPython.core.display.Javascript object>"
      ]
     },
     "metadata": {},
     "output_type": "display_data"
    }
   ],
   "source": [
    "# Import train_test_split()\n",
    "from sklearn.model_selection import train_test_split\n",
    "\n",
    "# Select the opeid column as the feature to be predicted (y)\n",
    "y = df['proprietary']\n",
    "\n",
    "# Remove the opeid column to create the training data\n",
    "X = df.drop('proprietary', axis=1)\n",
    "\n",
    "# Perform a 70% train and 30% test data split\n",
    "X_train, X_test, y_train, y_test = train_test_split(X, y, test_size=0.3)\n",
    "\n",
    "train = pd.concat([y_train, X_train], axis = 1)\n",
    "test = pd.concat([y_test, X_test], axis = 1)"
   ]
  },
  {
   "cell_type": "code",
   "execution_count": 27,
   "metadata": {},
   "outputs": [
    {
     "data": {
      "text/plain": [
       "Index(['proprietary', 'opeid', 'agemedian', 'cdr2014_log', 'cdr2015_log',\n",
       "       'cdr2016_log', 'cohort2014_log', 'cohort2015_log', 'cohort2016_log',\n",
       "       'density_log', 'educationcollegeorabove', 'familysize_log',\n",
       "       'female_sqrt', 'homeownership', 'homevalue_log',\n",
       "       'incomehouseholdmedian_log', 'incomehouseholdsixfigure_log',\n",
       "       'laborforceparticipation_sqrt', 'male_reciprocal', 'married',\n",
       "       'population_log', 'proglength', 'raceasian_log', 'raceblack_log',\n",
       "       'racemultiple_log', 'racenative_reciprocal', 'raceother_log',\n",
       "       'racepacific', 'racewhite', 'rentmedian_log', 'unemploymentrate_log',\n",
       "       'associates', 'bachelors', 'firstprofessional', 'gradprofessional',\n",
       "       'mastersordoctors', 'nondegree', 'nondegree1year', 'nondegree2years',\n",
       "       'nondegree3years', 'private', 'public', 'hbcuCollege',\n",
       "       'hispanicCollege', 'nativeAmericanCollege', 'notReportedCollege'],\n",
       "      dtype='object')"
      ]
     },
     "execution_count": 27,
     "metadata": {},
     "output_type": "execute_result"
    }
   ],
   "source": [
    "train.columns"
   ]
  },
  {
   "cell_type": "markdown",
   "metadata": {},
   "source": [
    "### Logistic Regression"
   ]
  },
  {
   "cell_type": "code",
   "execution_count": 41,
   "metadata": {},
   "outputs": [
    {
     "name": "stdout",
     "output_type": "stream",
     "text": [
      "                 Generalized Linear Model Regression Results                  \n",
      "==============================================================================\n",
      "Dep. Variable:            proprietary   No. Observations:                 2513\n",
      "Model:                            GLM   Df Residuals:                     2489\n",
      "Model Family:                Binomial   Df Model:                           23\n",
      "Link Function:                  logit   Scale:                          1.0000\n",
      "Method:                          IRLS   Log-Likelihood:                -1416.2\n",
      "Date:                Sat, 04 Apr 2020   Deviance:                       2832.4\n",
      "Time:                        19:06:27   Pearson chi2:                 2.52e+03\n",
      "No. Iterations:                     5                                         \n",
      "Covariance Type:            nonrobust                                         \n",
      "================================================================================================\n",
      "                                   coef    std err          z      P>|z|      [0.025      0.975]\n",
      "------------------------------------------------------------------------------------------------\n",
      "Intercept                      129.9909    133.384      0.975      0.330    -131.437     391.419\n",
      "cdr2016_log                      2.9770      0.289     10.296      0.000       2.410       3.544\n",
      "agemedian                        3.6667      0.815      4.497      0.000       2.069       5.265\n",
      "density_log                      2.4257      0.767      3.161      0.002       0.922       3.930\n",
      "educationcollegeorabove          1.1778      0.755      1.561      0.119      -0.301       2.657\n",
      "familysize_log                   3.8736      0.917      4.225      0.000       2.077       5.671\n",
      "female_sqrt                   -158.8951    153.142     -1.038      0.299    -459.047     141.257\n",
      "homeownership                    2.2683      0.883      2.569      0.010       0.538       3.999\n",
      "homevalue_log                    0.7141      1.051      0.679      0.497      -1.346       2.774\n",
      "incomehouseholdmedian_log       -6.8449      2.076     -3.296      0.001     -10.915      -2.775\n",
      "incomehouseholdsixfigure_log     0.1001      1.820      0.055      0.956      -3.466       3.666\n",
      "laborforceparticipation_sqrt    -4.3936      0.918     -4.786      0.000      -6.193      -2.594\n",
      "male_reciprocal               -131.8861    127.409     -1.035      0.301    -381.603     117.831\n",
      "married                          1.8541      0.919      2.017      0.044       0.052       3.656\n",
      "population_log                   0.9693      0.402      2.413      0.016       0.182       1.757\n",
      "raceasian_log                    2.0116      0.481      4.183      0.000       1.069       2.954\n",
      "raceblack_log                    1.3761      0.498      2.764      0.006       0.400       2.352\n",
      "racemultiple_log                -0.3658      0.611     -0.598      0.550      -1.564       0.832\n",
      "racenative_reciprocal            0.0361      0.307      0.118      0.906      -0.566       0.638\n",
      "raceother_log                    0.0098      0.381      0.026      0.980      -0.737       0.757\n",
      "racepacific                     21.5331      7.667      2.809      0.005       6.506      36.560\n",
      "racewhite                        2.6398      0.669      3.943      0.000       1.328       3.952\n",
      "rentmedian_log                  -0.2543      0.990     -0.257      0.797      -2.194       1.686\n",
      "unemploymentrate_log            -0.3403      0.889     -0.383      0.702      -2.083       1.402\n",
      "================================================================================================\n"
     ]
    }
   ],
   "source": [
    "import statsmodels.api as sm\n",
    "from statsmodels.formula.api import ols, glm\n",
    "\n",
    "formula = 'proprietary ~ cdr2016_log + agemedian + density_log + educationcollegeorabove + familysize_log + female_sqrt + homeownership + homevalue_log + incomehouseholdmedian_log + incomehouseholdsixfigure_log + laborforceparticipation_sqrt + male_reciprocal + married + population_log + raceasian_log + raceblack_log + racemultiple_log + racenative_reciprocal + raceother_log + racepacific + racewhite + rentmedian_log + unemploymentrate_log'\n",
    "\n",
    "\n",
    "# binomial\n",
    "family_GLM = sm.families.Binomial()\n",
    "\n",
    "\n",
    "# Fit a linear model\n",
    "model_lm = glm(formula = formula,\n",
    "               data = train, family = family_GLM).fit()\n",
    "\n",
    "# View model summary\n",
    "print(model_lm.summary())"
   ]
  },
  {
   "cell_type": "code",
   "execution_count": 48,
   "metadata": {},
   "outputs": [
    {
     "data": {
      "application/javascript": [
       "\n",
       "        if (window._pyforest_update_imports_cell) { window._pyforest_update_imports_cell('import numpy as np\\nimport pandas as pd'); }\n",
       "    "
      ],
      "text/plain": [
       "<IPython.core.display.Javascript object>"
      ]
     },
     "metadata": {},
     "output_type": "display_data"
    },
    {
     "data": {
      "application/javascript": [
       "\n",
       "        if (window._pyforest_update_imports_cell) { window._pyforest_update_imports_cell('import numpy as np\\nimport pandas as pd'); }\n",
       "    "
      ],
      "text/plain": [
       "<IPython.core.display.Javascript object>"
      ]
     },
     "metadata": {},
     "output_type": "display_data"
    },
    {
     "name": "stdout",
     "output_type": "stream",
     "text": [
      "Confusion Matrix\n",
      "Predicted    0    1   All\n",
      "Actual                   \n",
      "0          653   87   740\n",
      "1          227  111   338\n",
      "All        880  198  1078\n",
      "\n",
      "\n",
      "Evaluation Metrics\n",
      "Accuracy:  70.9 %\n",
      "Precision:  74.2 %\n",
      "Recall:  88.2 %\n",
      "Sensitivity:  88.2 %\n",
      "Specificity:  32.8 %\n",
      "Kappa:  23.8 %\n"
     ]
    }
   ],
   "source": [
    "pred_lm = model_lm.predict(X_test)\n",
    "\n",
    "# Define the cutoff\n",
    "cutoff = 0.5\n",
    "\n",
    "# Compute class predictions: y_prediction\n",
    "y_prediction = np.where(pred_lm > cutoff, 1, 0)\n",
    "\n",
    "# Compute the confusion matrix using crosstab function\n",
    "conf_mat = pd.crosstab(y_test, y_prediction,\n",
    "                       rownames=['Actual'], \n",
    "                       colnames=['Predicted'], \n",
    "                       margins = True)\n",
    "\n",
    "# Print the confusion matrix\n",
    "print('Confusion Matrix')\n",
    "print(conf_mat)\n",
    "\n",
    "tp = conf_mat.iloc[0,0]\n",
    "fp = conf_mat.iloc[1,0]\n",
    "tn = conf_mat.iloc[1,1]\n",
    "fn = conf_mat.iloc[0,1]\n",
    "\n",
    "\n",
    "accuracy = (tn + tp)/(tn+ tp + fn + fp)\n",
    "precision = tp / (tp + fp)\n",
    "recall = tp / (tp + fn)\n",
    "sensitivity = tp/(tp + fn)\n",
    "specificity = tn/(tn + fp)\n",
    "\n",
    "print('\\n')\n",
    "print('Evaluation Metrics')\n",
    "print('Accuracy: ', ((accuracy)*100).round(1), '%')\n",
    "print('Precision: ', ((precision)*100).round(1), '%')\n",
    "print('Recall: ', ((recall)*100).round(1), '%')\n",
    "print('Sensitivity: ', ((sensitivity)*100).round(1), '%')\n",
    "print('Specificity: ', ((specificity)*100).round(1), '%')\n",
    "\n",
    "from sklearn.metrics import cohen_kappa_score\n",
    "\n",
    "kappa = cohen_kappa_score(y_test, y_prediction)\n",
    "\n",
    "print('Kappa: ', ((kappa)*100).round(1), '%',)"
   ]
  },
  {
   "cell_type": "code",
   "execution_count": null,
   "metadata": {},
   "outputs": [],
   "source": []
  }
 ],
 "metadata": {
  "kernelspec": {
   "display_name": "Python 3",
   "language": "python",
   "name": "python3"
  },
  "language_info": {
   "codemirror_mode": {
    "name": "ipython",
    "version": 3
   },
   "file_extension": ".py",
   "mimetype": "text/x-python",
   "name": "python",
   "nbconvert_exporter": "python",
   "pygments_lexer": "ipython3",
   "version": "3.7.4"
  }
 },
 "nbformat": 4,
 "nbformat_minor": 4
}
