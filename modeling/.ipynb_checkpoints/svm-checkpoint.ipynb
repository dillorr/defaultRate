{
 "cells": [
  {
   "cell_type": "markdown",
   "metadata": {},
   "source": [
    "# svm"
   ]
  },
  {
   "cell_type": "code",
   "execution_count": 7,
   "metadata": {},
   "outputs": [
    {
     "data": {
      "application/javascript": [
       "\n",
       "        if (window._pyforest_update_imports_cell) { window._pyforest_update_imports_cell('import pandas as pd'); }\n",
       "    "
      ],
      "text/plain": [
       "<IPython.core.display.Javascript object>"
      ]
     },
     "metadata": {},
     "output_type": "display_data"
    },
    {
     "data": {
      "text/plain": [
       "Index(['opeid', 'agemedian', 'cdr2014_log', 'cdr2015_log', 'cdr2016_log',\n",
       "       'cohort2014_log', 'cohort2015_log', 'cohort2016_log', 'density_log',\n",
       "       'educationcollegeorabove', 'familysize_log', 'female_sqrt',\n",
       "       'homeownership', 'homevalue_log', 'incomehouseholdmedian_log',\n",
       "       'incomehouseholdsixfigure_log', 'laborforceparticipation_sqrt',\n",
       "       'male_reciprocal', 'married', 'population_log', 'proglength',\n",
       "       'raceasian_log', 'raceblack_log', 'racemultiple_log',\n",
       "       'racenative_reciprocal', 'raceother_log', 'racepacific', 'racewhite',\n",
       "       'rentmedian_log', 'unemploymentrate_log', 'associates', 'bachelors',\n",
       "       'firstprofessional', 'gradprofessional', 'mastersordoctors',\n",
       "       'nondegree', 'nondegree1year', 'nondegree2years', 'nondegree3years',\n",
       "       'private', 'proprietary', 'public', 'hbcuCollege', 'hispanicCollege',\n",
       "       'nativeAmericanCollege', 'notReportedCollege'],\n",
       "      dtype='object')"
      ]
     },
     "execution_count": 7,
     "metadata": {},
     "output_type": "execute_result"
    }
   ],
   "source": [
    "# import dataset without foreign schools and missing data\n",
    "df = pd.read_csv(r'../data/modeling/combined.csv', encoding = \"ISO-8859-1\")\n",
    "df.columns"
   ]
  },
  {
   "cell_type": "markdown",
   "metadata": {},
   "source": [
    "## predict school type proprietary"
   ]
  },
  {
   "cell_type": "code",
   "execution_count": 15,
   "metadata": {},
   "outputs": [],
   "source": [
    "from sklearn.model_selection import train_test_split\n",
    "\n",
    "data = df.drop(columns = 'proprietary')\n",
    "target = df['proprietary']\n",
    "\n",
    "X_train, X_test, y_train, y_test = train_test_split(data, target, test_size = .25, random_state = 109)"
   ]
  },
  {
   "cell_type": "markdown",
   "metadata": {},
   "source": [
    "### training set"
   ]
  },
  {
   "cell_type": "code",
   "execution_count": 22,
   "metadata": {},
   "outputs": [],
   "source": [
    "from sklearn import svm\n",
    "\n",
    "clf = svm.SVC(kernel = 'rbf')\n",
    "\n",
    "clf.fit(X_train, y_train)\n",
    "\n",
    "y_pred = clf.predict(X_train)"
   ]
  },
  {
   "cell_type": "code",
   "execution_count": 23,
   "metadata": {},
   "outputs": [
    {
     "name": "stdout",
     "output_type": "stream",
     "text": [
      "accuracy:  0.8321574452283699\n",
      "precision: 0.708502024291498\n",
      "recall: 0.8101851851851852\n",
      "kappa: 0.6289109229637958\n"
     ]
    }
   ],
   "source": [
    "from sklearn import metrics\n",
    "\n",
    "print('accuracy: ', metrics.accuracy_score(y_train, y_pred))\n",
    "\n",
    "print(\"precision:\",metrics.precision_score(y_train, y_pred))\n",
    "\n",
    "print(\"recall:\",metrics.recall_score(y_train, y_pred))\n",
    "\n",
    "print(\"kappa:\",metrics.cohen_kappa_score(y_train, y_pred))"
   ]
  },
  {
   "cell_type": "markdown",
   "metadata": {},
   "source": [
    "### test set"
   ]
  },
  {
   "cell_type": "code",
   "execution_count": 24,
   "metadata": {},
   "outputs": [],
   "source": [
    "from sklearn import svm\n",
    "\n",
    "clf = svm.SVC(kernel = 'rbf')\n",
    "\n",
    "clf.fit(X_train, y_train)\n",
    "\n",
    "y_pred = clf.predict(X_test)"
   ]
  },
  {
   "cell_type": "code",
   "execution_count": 25,
   "metadata": {},
   "outputs": [
    {
     "name": "stdout",
     "output_type": "stream",
     "text": [
      "accuracy:  0.8318485523385301\n",
      "precision: 0.7039274924471299\n",
      "recall: 0.8146853146853147\n",
      "kappa: 0.6282276947035373\n"
     ]
    }
   ],
   "source": [
    "from sklearn import metrics\n",
    "\n",
    "print('accuracy: ', metrics.accuracy_score(y_test, y_pred))\n",
    "\n",
    "print(\"precision:\",metrics.precision_score(y_test, y_pred))\n",
    "\n",
    "print(\"recall:\",metrics.recall_score(y_test, y_pred))\n",
    "\n",
    "print(\"kappa:\",metrics.cohen_kappa_score(y_test, y_pred))"
   ]
  },
  {
   "cell_type": "markdown",
   "metadata": {},
   "source": [
    "## predict high vs low cdr"
   ]
  },
  {
   "cell_type": "code",
   "execution_count": 36,
   "metadata": {},
   "outputs": [],
   "source": [
    "df['cdrHigh'] = [1 if x >= 0.536775872 else 0 for x in df.cdr2016_log]"
   ]
  },
  {
   "cell_type": "code",
   "execution_count": 37,
   "metadata": {},
   "outputs": [],
   "source": [
    "from sklearn.model_selection import train_test_split\n",
    "\n",
    "data = df.drop(columns = 'cdrHigh')\n",
    "target = df['cdrHigh']\n",
    "\n",
    "X_train, X_test, y_train, y_test = train_test_split(data, target, test_size = .25, random_state = 109)"
   ]
  },
  {
   "cell_type": "markdown",
   "metadata": {},
   "source": [
    "### train set"
   ]
  },
  {
   "cell_type": "code",
   "execution_count": null,
   "metadata": {},
   "outputs": [],
   "source": [
    "from sklearn import svm\n",
    "\n",
    "clf = svm.SVC(kernel = 'rbf')\n",
    "\n",
    "clf.fit(X_train, y_train)\n",
    "\n",
    "y_pred = clf.predict(X_train)"
   ]
  },
  {
   "cell_type": "code",
   "execution_count": null,
   "metadata": {},
   "outputs": [],
   "source": [
    "from sklearn import metrics\n",
    "\n",
    "print('accuracy: ', metrics.accuracy_score(y_train, y_pred))\n",
    "\n",
    "print(\"precision:\",metrics.precision_score(y_train, y_pred))\n",
    "\n",
    "print(\"recall:\",metrics.recall_score(y_train, y_pred))\n",
    "\n",
    "print(\"kappa:\",metrics.cohen_kappa_score(y_train, y_pred))"
   ]
  },
  {
   "cell_type": "markdown",
   "metadata": {},
   "source": [
    "### test set"
   ]
  },
  {
   "cell_type": "code",
   "execution_count": 34,
   "metadata": {},
   "outputs": [],
   "source": [
    "from sklearn import svm\n",
    "\n",
    "clf = svm.SVC(kernel = 'rbf')\n",
    "\n",
    "clf.fit(X_train, y_train)\n",
    "\n",
    "y_pred = clf.predict(X_test)"
   ]
  },
  {
   "cell_type": "code",
   "execution_count": 35,
   "metadata": {},
   "outputs": [
    {
     "name": "stdout",
     "output_type": "stream",
     "text": [
      "accuracy:  0.589086859688196\n",
      "precision: 0.5699797160243407\n",
      "recall: 0.6415525114155252\n",
      "kappa: 0.18014201944726227\n"
     ]
    }
   ],
   "source": [
    "from sklearn import metrics\n",
    "\n",
    "print('accuracy: ', metrics.accuracy_score(y_test, y_pred))\n",
    "\n",
    "print(\"precision:\",metrics.precision_score(y_test, y_pred))\n",
    "\n",
    "print(\"recall:\",metrics.recall_score(y_test, y_pred))\n",
    "\n",
    "print(\"kappa:\",metrics.cohen_kappa_score(y_test, y_pred))"
   ]
  },
  {
   "cell_type": "code",
   "execution_count": null,
   "metadata": {},
   "outputs": [],
   "source": []
  }
 ],
 "metadata": {
  "kernelspec": {
   "display_name": "Python 3",
   "language": "python",
   "name": "python3"
  },
  "language_info": {
   "codemirror_mode": {
    "name": "ipython",
    "version": 3
   },
   "file_extension": ".py",
   "mimetype": "text/x-python",
   "name": "python",
   "nbconvert_exporter": "python",
   "pygments_lexer": "ipython3",
   "version": "3.7.4"
  }
 },
 "nbformat": 4,
 "nbformat_minor": 4
}
